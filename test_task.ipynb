{
 "cells": [
  {
   "cell_type": "code",
   "execution_count": 5,
   "metadata": {},
   "outputs": [],
   "source": [
    "def parse_json(json_sting:str) -> dict:\n",
    "    \"\"\"Функция преобразует строку json в словарь\n",
    "\n",
    "    Args:\n",
    "        json_sting (str): строка json\n",
    "\n",
    "    Returns:\n",
    "        dict: словарь\n",
    "    \"\"\"\n",
    "    result = dict()\n",
    "    for substring in json_sting[1:-2].split(','):\n",
    "        result[substring.split(':')[0].strip()] = float(substring.split(':')[1])\n",
    "    return result\n",
    "        "
   ]
  },
  {
   "cell_type": "code",
   "execution_count": 6,
   "metadata": {},
   "outputs": [],
   "source": [
    "def get_percents_for_months(input_json_data:str) -> float:\n",
    "    \"\"\"Функция возвращает проценты, выплаченные за определенное количество месяцев\n",
    "    Args:\n",
    "        input_json_data (str): входные данные в формате json, например\n",
    "        \"{\n",
    "            loan_amount: 50000,     # сумма кредита\n",
    "            interest_rate: 22,      # процентная ставка\n",
    "            loan_term_months: 12,   # срок кредотвания (мес.)\n",
    "            current_month: 12       # количество месяцев, за которон необходимо посчитать проценты\n",
    "        }\"\n",
    "        \n",
    "    Returns:\n",
    "        float: сумма выплаченных процентов за заданный период (current_month)\n",
    "    \"\"\"\n",
    "    data = parse_json(input_json_data)\n",
    "    interest_rate_month = data['interest_rate'] / 100 / 12 # Проценты, начисляемые за месяц\n",
    "    monthly_contributions = data['loan_amount'] * (interest_rate_month + (interest_rate_month / ((1 + interest_rate_month)**data['loan_term_months'] - 1))) # Ежемесячный взнос\n",
    "    remainder = data['loan_amount']\n",
    "    result = 0\n",
    "    for _ in range(int(data['current_month'])):\n",
    "        persents_in_one_month = remainder * interest_rate_month # Размер процентов в ежемесячном взносе\n",
    "        result += persents_in_one_month\n",
    "        remainder -= (monthly_contributions-persents_in_one_month)\n",
    "    return round(result, 2)"
   ]
  },
  {
   "cell_type": "code",
   "execution_count": 7,
   "metadata": {},
   "outputs": [],
   "source": [
    "input_data = \"{loan_amount: 50000, interest_rate: 22, loan_term_months: 12, current_month: 12}\""
   ]
  },
  {
   "cell_type": "code",
   "execution_count": 8,
   "metadata": {},
   "outputs": [
    {
     "name": "stdout",
     "output_type": "stream",
     "text": [
      "916.67\n"
     ]
    }
   ],
   "source": [
    "result = get_percents_for_months(input_data)\n",
    "print(result)"
   ]
  }
 ],
 "metadata": {
  "interpreter": {
   "hash": "ce96d18428a423c525a3f0ed973f5e48e845aa99864a704e334219c0da2a8fc7"
  },
  "kernelspec": {
   "display_name": "Python 3.8.8 64-bit ('base': conda)",
   "language": "python",
   "name": "python3"
  },
  "language_info": {
   "codemirror_mode": {
    "name": "ipython",
    "version": 3
   },
   "file_extension": ".py",
   "mimetype": "text/x-python",
   "name": "python",
   "nbconvert_exporter": "python",
   "pygments_lexer": "ipython3",
   "version": "3.8.8"
  },
  "orig_nbformat": 4
 },
 "nbformat": 4,
 "nbformat_minor": 2
}
